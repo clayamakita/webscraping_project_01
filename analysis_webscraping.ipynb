{
 "cells": [
  {
   "cell_type": "markdown",
   "id": "727fcfa9-8644-430d-8847-404de8d68a85",
   "metadata": {},
   "source": [
    "# Analysis of web scraping results\n",
    "\n",
    "Next steps of analysis:\n",
    "\n",
    "- a: Include comments for each step / Possibly include images of products\n",
    "- b: Improve chart for total sume of products per day and per supermarket\n",
    "    - Consider use of matplotlib, seaborn or other libraries (try use of Power BI?)\n",
    "- c: Analyze which supermarket has the product with the smallest value for each day\n",
    "\n",
    "This notebook covers the following steps:\n",
    "\n",
    "1. Read file that didn't have the datetime column and include it by extracting the data from the filename\n",
    "2. Read rest of the files and concatenate data from both dataframes"
   ]
  },
  {
   "cell_type": "code",
   "execution_count": 1,
   "id": "e91cee37-4cad-42ae-96a7-5e0365143863",
   "metadata": {},
   "outputs": [],
   "source": [
    "# import libraries\n",
    "import pandas as pd\n",
    "import glob\n",
    "import os\n",
    "from datetime import datetime"
   ]
  },
  {
   "cell_type": "code",
   "execution_count": 2,
   "id": "82136c8f-1069-41b0-9489-a480695ebeda",
   "metadata": {},
   "outputs": [
    {
     "data": {
      "text/plain": [
       "['C:\\\\Users\\\\Clarissa\\\\Documents\\\\Datasets\\\\webscraping_project_01/webscraping_results\\\\webscraping_results_20230225-2038.csv',\n",
       " 'C:\\\\Users\\\\Clarissa\\\\Documents\\\\Datasets\\\\webscraping_project_01/webscraping_results\\\\webscraping_results_20230304-1702.csv',\n",
       " 'C:\\\\Users\\\\Clarissa\\\\Documents\\\\Datasets\\\\webscraping_project_01/webscraping_results\\\\webscraping_results_20230319-1844.csv',\n",
       " 'C:\\\\Users\\\\Clarissa\\\\Documents\\\\Datasets\\\\webscraping_project_01/webscraping_results\\\\webscraping_results_20230326-1621.csv',\n",
       " 'C:\\\\Users\\\\Clarissa\\\\Documents\\\\Datasets\\\\webscraping_project_01/webscraping_results\\\\webscraping_results_20230331-1710.csv']"
      ]
     },
     "execution_count": 2,
     "metadata": {},
     "output_type": "execute_result"
    }
   ],
   "source": [
    "# save path of the current directory to a variable and create a list with path and filenames\n",
    "path = os.getcwd()\n",
    "csv_files = glob.glob(path + \"/webscraping_results/*.csv\")\n",
    "\n",
    "csv_files"
   ]
  },
  {
   "cell_type": "code",
   "execution_count": 3,
   "id": "c8741c7f-5e7a-429f-9f0e-0ba965d8c1bf",
   "metadata": {},
   "outputs": [
    {
     "data": {
      "text/html": [
       "<div>\n",
       "<style scoped>\n",
       "    .dataframe tbody tr th:only-of-type {\n",
       "        vertical-align: middle;\n",
       "    }\n",
       "\n",
       "    .dataframe tbody tr th {\n",
       "        vertical-align: top;\n",
       "    }\n",
       "\n",
       "    .dataframe thead th {\n",
       "        text-align: right;\n",
       "    }\n",
       "</style>\n",
       "<table border=\"1\" class=\"dataframe\">\n",
       "  <thead>\n",
       "    <tr style=\"text-align: right;\">\n",
       "      <th></th>\n",
       "      <th>datetime</th>\n",
       "      <th>supermarket</th>\n",
       "      <th>product</th>\n",
       "      <th>product_name</th>\n",
       "      <th>product_price</th>\n",
       "    </tr>\n",
       "  </thead>\n",
       "  <tbody>\n",
       "    <tr>\n",
       "      <th>0</th>\n",
       "      <td>2023-02-25 20:38:00</td>\n",
       "      <td>sfw</td>\n",
       "      <td>Milk</td>\n",
       "      <td>Dairyland 2% Milk 1 L</td>\n",
       "      <td>2.99</td>\n",
       "    </tr>\n",
       "    <tr>\n",
       "      <th>1</th>\n",
       "      <td>2023-02-25 20:38:00</td>\n",
       "      <td>sfw</td>\n",
       "      <td>Tomato sauce</td>\n",
       "      <td>Hunt's Fat-Free Tomato Sauce 680 ml</td>\n",
       "      <td>2.99</td>\n",
       "    </tr>\n",
       "    <tr>\n",
       "      <th>2</th>\n",
       "      <td>2023-02-25 20:38:00</td>\n",
       "      <td>sfw</td>\n",
       "      <td>Spaguetti</td>\n",
       "      <td>Catelli Pasta Spaghetti 900 g</td>\n",
       "      <td>5.49</td>\n",
       "    </tr>\n",
       "    <tr>\n",
       "      <th>3</th>\n",
       "      <td>2023-02-25 20:38:00</td>\n",
       "      <td>sfw</td>\n",
       "      <td>Bacon</td>\n",
       "      <td>Schneiders Hickory Smoked Classic Cut Bacon 375 g</td>\n",
       "      <td>4.99</td>\n",
       "    </tr>\n",
       "    <tr>\n",
       "      <th>4</th>\n",
       "      <td>2023-02-25 20:38:00</td>\n",
       "      <td>sfw</td>\n",
       "      <td>Beans</td>\n",
       "      <td>Unico Black Beans 540 ml</td>\n",
       "      <td>2.49</td>\n",
       "    </tr>\n",
       "  </tbody>\n",
       "</table>\n",
       "</div>"
      ],
      "text/plain": [
       "             datetime supermarket       product  \\\n",
       "0 2023-02-25 20:38:00         sfw          Milk   \n",
       "1 2023-02-25 20:38:00         sfw  Tomato sauce   \n",
       "2 2023-02-25 20:38:00         sfw     Spaguetti   \n",
       "3 2023-02-25 20:38:00         sfw         Bacon   \n",
       "4 2023-02-25 20:38:00         sfw         Beans   \n",
       "\n",
       "                                        product_name  product_price  \n",
       "0                              Dairyland 2% Milk 1 L           2.99  \n",
       "1                Hunt's Fat-Free Tomato Sauce 680 ml           2.99  \n",
       "2                      Catelli Pasta Spaghetti 900 g           5.49  \n",
       "3  Schneiders Hickory Smoked Classic Cut Bacon 375 g           4.99  \n",
       "4                           Unico Black Beans 540 ml           2.49  "
      ]
     },
     "execution_count": 3,
     "metadata": {},
     "output_type": "execute_result"
    }
   ],
   "source": [
    "# extract datetime from filename for first saved file\n",
    "first_filename = os.path.basename(csv_files[0])\n",
    "file_datetime = first_filename.split(\"_\")[2].replace(\".csv\", \"\")\n",
    "file_datetime = datetime.strptime(file_datetime, \"%Y%m%d-%H%M\")\n",
    "\n",
    "# create dataframe with first file and include datetime as a column\n",
    "df_first_result = pd.read_csv(csv_files[0]).drop(['Unnamed: 0'],axis=1)\n",
    "df_first_result['datetime'] = file_datetime\n",
    "\n",
    "# reorder columns\n",
    "reordered_columns = ['datetime', 'supermarket', 'product', 'product_name', 'product_price']\n",
    "df_first_result = df_first_result[reordered_columns]\n",
    "\n",
    "df_first_result.head()"
   ]
  },
  {
   "cell_type": "code",
   "execution_count": 4,
   "id": "0f7a0d96-99ab-475b-9474-0cd8f063abb1",
   "metadata": {},
   "outputs": [
    {
     "data": {
      "text/html": [
       "<div>\n",
       "<style scoped>\n",
       "    .dataframe tbody tr th:only-of-type {\n",
       "        vertical-align: middle;\n",
       "    }\n",
       "\n",
       "    .dataframe tbody tr th {\n",
       "        vertical-align: top;\n",
       "    }\n",
       "\n",
       "    .dataframe thead th {\n",
       "        text-align: right;\n",
       "    }\n",
       "</style>\n",
       "<table border=\"1\" class=\"dataframe\">\n",
       "  <thead>\n",
       "    <tr style=\"text-align: right;\">\n",
       "      <th></th>\n",
       "      <th>datetime</th>\n",
       "      <th>supermarket</th>\n",
       "      <th>product</th>\n",
       "      <th>product_name</th>\n",
       "      <th>product_price</th>\n",
       "    </tr>\n",
       "  </thead>\n",
       "  <tbody>\n",
       "    <tr>\n",
       "      <th>0</th>\n",
       "      <td>2023-02-25 20:38:00</td>\n",
       "      <td>sfw</td>\n",
       "      <td>Milk</td>\n",
       "      <td>Dairyland 2% Milk 1 L</td>\n",
       "      <td>2.99</td>\n",
       "    </tr>\n",
       "    <tr>\n",
       "      <th>1</th>\n",
       "      <td>2023-02-25 20:38:00</td>\n",
       "      <td>sfw</td>\n",
       "      <td>Tomato sauce</td>\n",
       "      <td>Hunt's Fat-Free Tomato Sauce 680 ml</td>\n",
       "      <td>2.99</td>\n",
       "    </tr>\n",
       "    <tr>\n",
       "      <th>2</th>\n",
       "      <td>2023-02-25 20:38:00</td>\n",
       "      <td>sfw</td>\n",
       "      <td>Spaguetti</td>\n",
       "      <td>Catelli Pasta Spaghetti 900 g</td>\n",
       "      <td>5.49</td>\n",
       "    </tr>\n",
       "    <tr>\n",
       "      <th>3</th>\n",
       "      <td>2023-02-25 20:38:00</td>\n",
       "      <td>sfw</td>\n",
       "      <td>Bacon</td>\n",
       "      <td>Schneiders Hickory Smoked Classic Cut Bacon 375 g</td>\n",
       "      <td>4.99</td>\n",
       "    </tr>\n",
       "    <tr>\n",
       "      <th>4</th>\n",
       "      <td>2023-02-25 20:38:00</td>\n",
       "      <td>sfw</td>\n",
       "      <td>Beans</td>\n",
       "      <td>Unico Black Beans 540 ml</td>\n",
       "      <td>2.49</td>\n",
       "    </tr>\n",
       "    <tr>\n",
       "      <th>...</th>\n",
       "      <td>...</td>\n",
       "      <td>...</td>\n",
       "      <td>...</td>\n",
       "      <td>...</td>\n",
       "      <td>...</td>\n",
       "    </tr>\n",
       "    <tr>\n",
       "      <th>75</th>\n",
       "      <td>2023-03-31 17:10:45.291617</td>\n",
       "      <td>sof</td>\n",
       "      <td>Strawberries</td>\n",
       "      <td>Strawberries - Fresh, 1 Pound</td>\n",
       "      <td>5.49</td>\n",
       "    </tr>\n",
       "    <tr>\n",
       "      <th>76</th>\n",
       "      <td>2023-03-31 17:10:46.474374</td>\n",
       "      <td>sof</td>\n",
       "      <td>Bread</td>\n",
       "      <td>Dempster's - White Bread - Sliced, 570 Gram</td>\n",
       "      <td>4.99</td>\n",
       "    </tr>\n",
       "    <tr>\n",
       "      <th>77</th>\n",
       "      <td>2023-03-31 17:10:47.252491</td>\n",
       "      <td>sof</td>\n",
       "      <td>Sliced ham</td>\n",
       "      <td>Maple Leaf - Natural Selections Sliced Deli Ha...</td>\n",
       "      <td>8.49</td>\n",
       "    </tr>\n",
       "    <tr>\n",
       "      <th>78</th>\n",
       "      <td>2023-03-31 17:10:47.952991</td>\n",
       "      <td>sof</td>\n",
       "      <td>Sliced cheese</td>\n",
       "      <td>Cracker Barrel - Mozzarella Cheese Slices, 240...</td>\n",
       "      <td>6.99</td>\n",
       "    </tr>\n",
       "    <tr>\n",
       "      <th>79</th>\n",
       "      <td>2023-03-31 17:10:48.729844</td>\n",
       "      <td>sof</td>\n",
       "      <td>Hot dogs</td>\n",
       "      <td>Maple Leaf - Natural Top Dogs Original Hot Dog...</td>\n",
       "      <td>7.49</td>\n",
       "    </tr>\n",
       "  </tbody>\n",
       "</table>\n",
       "<p>92 rows × 5 columns</p>\n",
       "</div>"
      ],
      "text/plain": [
       "                      datetime supermarket        product  \\\n",
       "0          2023-02-25 20:38:00         sfw           Milk   \n",
       "1          2023-02-25 20:38:00         sfw   Tomato sauce   \n",
       "2          2023-02-25 20:38:00         sfw      Spaguetti   \n",
       "3          2023-02-25 20:38:00         sfw          Bacon   \n",
       "4          2023-02-25 20:38:00         sfw          Beans   \n",
       "..                         ...         ...            ...   \n",
       "75  2023-03-31 17:10:45.291617         sof   Strawberries   \n",
       "76  2023-03-31 17:10:46.474374         sof          Bread   \n",
       "77  2023-03-31 17:10:47.252491         sof     Sliced ham   \n",
       "78  2023-03-31 17:10:47.952991         sof  Sliced cheese   \n",
       "79  2023-03-31 17:10:48.729844         sof       Hot dogs   \n",
       "\n",
       "                                         product_name  product_price  \n",
       "0                               Dairyland 2% Milk 1 L           2.99  \n",
       "1                 Hunt's Fat-Free Tomato Sauce 680 ml           2.99  \n",
       "2                       Catelli Pasta Spaghetti 900 g           5.49  \n",
       "3   Schneiders Hickory Smoked Classic Cut Bacon 375 g           4.99  \n",
       "4                            Unico Black Beans 540 ml           2.49  \n",
       "..                                                ...            ...  \n",
       "75                      Strawberries - Fresh, 1 Pound           5.49  \n",
       "76        Dempster's - White Bread - Sliced, 570 Gram           4.99  \n",
       "77  Maple Leaf - Natural Selections Sliced Deli Ha...           8.49  \n",
       "78  Cracker Barrel - Mozzarella Cheese Slices, 240...           6.99  \n",
       "79  Maple Leaf - Natural Top Dogs Original Hot Dog...           7.49  \n",
       "\n",
       "[92 rows x 5 columns]"
      ]
     },
     "execution_count": 4,
     "metadata": {},
     "output_type": "execute_result"
    }
   ],
   "source": [
    "# create list of dataframes with files that had datetime column\n",
    "df_list = (pd.read_csv(file) for file in csv_files[1:])\n",
    "\n",
    "# concatenate all dataframes and drop index column from csv\n",
    "webscraping_results = pd.concat(df_list, ignore_index=True).drop('Unnamed: 0', axis=1)\n",
    "\n",
    "# concatenate dataframe with first results file\n",
    "webscraping_results = pd.concat([df_first_result, webscraping_results])\n",
    "\n",
    "webscraping_results"
   ]
  },
  {
   "cell_type": "code",
   "execution_count": 5,
   "id": "cd726342-9d1d-4dbc-a41e-bc1ab9d4e6fd",
   "metadata": {},
   "outputs": [
    {
     "name": "stdout",
     "output_type": "stream",
     "text": [
      "<class 'pandas.core.frame.DataFrame'>\n",
      "Int64Index: 92 entries, 0 to 79\n",
      "Data columns (total 5 columns):\n",
      " #   Column         Non-Null Count  Dtype  \n",
      "---  ------         --------------  -----  \n",
      " 0   datetime       92 non-null     object \n",
      " 1   supermarket    92 non-null     object \n",
      " 2   product        92 non-null     object \n",
      " 3   product_name   92 non-null     object \n",
      " 4   product_price  92 non-null     float64\n",
      "dtypes: float64(1), object(4)\n",
      "memory usage: 4.3+ KB\n"
     ]
    }
   ],
   "source": [
    "# check dataframe\n",
    "webscraping_results.info()"
   ]
  },
  {
   "cell_type": "code",
   "execution_count": 6,
   "id": "d943f7cc-eaa0-4dc7-a162-0c28a5393b59",
   "metadata": {},
   "outputs": [
    {
     "name": "stdout",
     "output_type": "stream",
     "text": [
      "<class 'pandas.core.frame.DataFrame'>\n",
      "Int64Index: 92 entries, 0 to 79\n",
      "Data columns (total 5 columns):\n",
      " #   Column         Non-Null Count  Dtype         \n",
      "---  ------         --------------  -----         \n",
      " 0   datetime       92 non-null     datetime64[ns]\n",
      " 1   supermarket    92 non-null     object        \n",
      " 2   product        92 non-null     object        \n",
      " 3   product_name   92 non-null     object        \n",
      " 4   product_price  92 non-null     float64       \n",
      "dtypes: datetime64[ns](1), float64(1), object(3)\n",
      "memory usage: 4.3+ KB\n"
     ]
    }
   ],
   "source": [
    "# change datetime column type from string to datetime\n",
    "webscraping_results['datetime'] = pd.to_datetime(webscraping_results['datetime'])\n",
    "\n",
    "webscraping_results.info()"
   ]
  },
  {
   "cell_type": "code",
   "execution_count": 7,
   "id": "0d719d66-85a0-4e9e-a4d2-c2c27375f498",
   "metadata": {},
   "outputs": [
    {
     "data": {
      "text/html": [
       "<div>\n",
       "<style scoped>\n",
       "    .dataframe tbody tr th:only-of-type {\n",
       "        vertical-align: middle;\n",
       "    }\n",
       "\n",
       "    .dataframe tbody tr th {\n",
       "        vertical-align: top;\n",
       "    }\n",
       "\n",
       "    .dataframe thead th {\n",
       "        text-align: right;\n",
       "    }\n",
       "</style>\n",
       "<table border=\"1\" class=\"dataframe\">\n",
       "  <thead>\n",
       "    <tr style=\"text-align: right;\">\n",
       "      <th></th>\n",
       "      <th>datetime</th>\n",
       "      <th>supermarket</th>\n",
       "      <th>product</th>\n",
       "      <th>product_name</th>\n",
       "      <th>product_price</th>\n",
       "      <th>date</th>\n",
       "    </tr>\n",
       "  </thead>\n",
       "  <tbody>\n",
       "    <tr>\n",
       "      <th>0</th>\n",
       "      <td>2023-02-25 20:38:00</td>\n",
       "      <td>sfw</td>\n",
       "      <td>Milk</td>\n",
       "      <td>Dairyland 2% Milk 1 L</td>\n",
       "      <td>2.99</td>\n",
       "      <td>2023-02-25</td>\n",
       "    </tr>\n",
       "    <tr>\n",
       "      <th>1</th>\n",
       "      <td>2023-02-25 20:38:00</td>\n",
       "      <td>sfw</td>\n",
       "      <td>Tomato sauce</td>\n",
       "      <td>Hunt's Fat-Free Tomato Sauce 680 ml</td>\n",
       "      <td>2.99</td>\n",
       "      <td>2023-02-25</td>\n",
       "    </tr>\n",
       "    <tr>\n",
       "      <th>2</th>\n",
       "      <td>2023-02-25 20:38:00</td>\n",
       "      <td>sfw</td>\n",
       "      <td>Spaguetti</td>\n",
       "      <td>Catelli Pasta Spaghetti 900 g</td>\n",
       "      <td>5.49</td>\n",
       "      <td>2023-02-25</td>\n",
       "    </tr>\n",
       "    <tr>\n",
       "      <th>3</th>\n",
       "      <td>2023-02-25 20:38:00</td>\n",
       "      <td>sfw</td>\n",
       "      <td>Bacon</td>\n",
       "      <td>Schneiders Hickory Smoked Classic Cut Bacon 375 g</td>\n",
       "      <td>4.99</td>\n",
       "      <td>2023-02-25</td>\n",
       "    </tr>\n",
       "    <tr>\n",
       "      <th>4</th>\n",
       "      <td>2023-02-25 20:38:00</td>\n",
       "      <td>sfw</td>\n",
       "      <td>Beans</td>\n",
       "      <td>Unico Black Beans 540 ml</td>\n",
       "      <td>2.49</td>\n",
       "      <td>2023-02-25</td>\n",
       "    </tr>\n",
       "  </tbody>\n",
       "</table>\n",
       "</div>"
      ],
      "text/plain": [
       "             datetime supermarket       product  \\\n",
       "0 2023-02-25 20:38:00         sfw          Milk   \n",
       "1 2023-02-25 20:38:00         sfw  Tomato sauce   \n",
       "2 2023-02-25 20:38:00         sfw     Spaguetti   \n",
       "3 2023-02-25 20:38:00         sfw         Bacon   \n",
       "4 2023-02-25 20:38:00         sfw         Beans   \n",
       "\n",
       "                                        product_name  product_price  \\\n",
       "0                              Dairyland 2% Milk 1 L           2.99   \n",
       "1                Hunt's Fat-Free Tomato Sauce 680 ml           2.99   \n",
       "2                      Catelli Pasta Spaghetti 900 g           5.49   \n",
       "3  Schneiders Hickory Smoked Classic Cut Bacon 375 g           4.99   \n",
       "4                           Unico Black Beans 540 ml           2.49   \n",
       "\n",
       "         date  \n",
       "0  2023-02-25  \n",
       "1  2023-02-25  \n",
       "2  2023-02-25  \n",
       "3  2023-02-25  \n",
       "4  2023-02-25  "
      ]
     },
     "execution_count": 7,
     "metadata": {},
     "output_type": "execute_result"
    }
   ],
   "source": [
    "# crate a column just for the date the scraping was done\n",
    "webscraping_results['date'] = webscraping_results['datetime'].dt.date\n",
    "\n",
    "webscraping_results.head()"
   ]
  },
  {
   "cell_type": "code",
   "execution_count": 8,
   "id": "87e4a6fe-d1e9-4045-adfb-446fee1de248",
   "metadata": {},
   "outputs": [
    {
     "data": {
      "text/plain": [
       "array(['Milk', 'Tomato sauce', 'Spaguetti', 'Bacon', 'Beans',\n",
       "       'Strawberries', 'Bread', 'Sliced ham', 'Sliced cheese', 'Hot dogs'],\n",
       "      dtype=object)"
      ]
     },
     "execution_count": 8,
     "metadata": {},
     "output_type": "execute_result"
    }
   ],
   "source": [
    "webscraping_results['product'].unique()"
   ]
  },
  {
   "cell_type": "code",
   "execution_count": 9,
   "id": "9709f6fd-5ab7-4cfa-bf20-836541a664a7",
   "metadata": {},
   "outputs": [
    {
     "data": {
      "text/html": [
       "<div>\n",
       "<style scoped>\n",
       "    .dataframe tbody tr th:only-of-type {\n",
       "        vertical-align: middle;\n",
       "    }\n",
       "\n",
       "    .dataframe tbody tr th {\n",
       "        vertical-align: top;\n",
       "    }\n",
       "\n",
       "    .dataframe thead th {\n",
       "        text-align: right;\n",
       "    }\n",
       "</style>\n",
       "<table border=\"1\" class=\"dataframe\">\n",
       "  <thead>\n",
       "    <tr style=\"text-align: right;\">\n",
       "      <th></th>\n",
       "      <th>datetime</th>\n",
       "      <th>supermarket</th>\n",
       "      <th>product</th>\n",
       "      <th>product_name</th>\n",
       "      <th>product_price</th>\n",
       "      <th>date</th>\n",
       "    </tr>\n",
       "  </thead>\n",
       "  <tbody>\n",
       "    <tr>\n",
       "      <th>9</th>\n",
       "      <td>2023-03-04 17:02:37.628753</td>\n",
       "      <td>sfw</td>\n",
       "      <td>Hot dogs</td>\n",
       "      <td>Maple Leaf Natural Top Dogs Original Hot Dogs ...</td>\n",
       "      <td>3.99</td>\n",
       "      <td>2023-03-04</td>\n",
       "    </tr>\n",
       "    <tr>\n",
       "      <th>19</th>\n",
       "      <td>2023-03-04 17:02:47.548730</td>\n",
       "      <td>sof</td>\n",
       "      <td>Hot dogs</td>\n",
       "      <td>Maple Leaf - Natural Top Dogs Original Hot Dog...</td>\n",
       "      <td>7.49</td>\n",
       "      <td>2023-03-04</td>\n",
       "    </tr>\n",
       "    <tr>\n",
       "      <th>29</th>\n",
       "      <td>2023-03-19 18:44:00.032683</td>\n",
       "      <td>sfw</td>\n",
       "      <td>Hot dogs</td>\n",
       "      <td>Maple Leaf Natural Top Dogs Original Hot Dogs ...</td>\n",
       "      <td>6.79</td>\n",
       "      <td>2023-03-19</td>\n",
       "    </tr>\n",
       "    <tr>\n",
       "      <th>39</th>\n",
       "      <td>2023-03-19 18:44:17.473486</td>\n",
       "      <td>sof</td>\n",
       "      <td>Hot dogs</td>\n",
       "      <td>Maple Leaf - Natural Top Dogs Original Hot Dog...</td>\n",
       "      <td>7.49</td>\n",
       "      <td>2023-03-19</td>\n",
       "    </tr>\n",
       "    <tr>\n",
       "      <th>49</th>\n",
       "      <td>2023-03-26 16:20:47.774033</td>\n",
       "      <td>sfw</td>\n",
       "      <td>Hot dogs</td>\n",
       "      <td>Maple Leaf Natural Top Dogs Original Hot Dogs ...</td>\n",
       "      <td>6.99</td>\n",
       "      <td>2023-03-26</td>\n",
       "    </tr>\n",
       "    <tr>\n",
       "      <th>59</th>\n",
       "      <td>2023-03-26 16:21:01.878723</td>\n",
       "      <td>sof</td>\n",
       "      <td>Hot dogs</td>\n",
       "      <td>Maple Leaf - Natural Top Dogs Original Hot Dog...</td>\n",
       "      <td>7.49</td>\n",
       "      <td>2023-03-26</td>\n",
       "    </tr>\n",
       "    <tr>\n",
       "      <th>69</th>\n",
       "      <td>2023-03-31 17:10:35.641468</td>\n",
       "      <td>sfw</td>\n",
       "      <td>Hot dogs</td>\n",
       "      <td>Maple Leaf Natural Top Dogs Original Hot Dogs ...</td>\n",
       "      <td>6.99</td>\n",
       "      <td>2023-03-31</td>\n",
       "    </tr>\n",
       "    <tr>\n",
       "      <th>79</th>\n",
       "      <td>2023-03-31 17:10:48.729844</td>\n",
       "      <td>sof</td>\n",
       "      <td>Hot dogs</td>\n",
       "      <td>Maple Leaf - Natural Top Dogs Original Hot Dog...</td>\n",
       "      <td>7.49</td>\n",
       "      <td>2023-03-31</td>\n",
       "    </tr>\n",
       "  </tbody>\n",
       "</table>\n",
       "</div>"
      ],
      "text/plain": [
       "                     datetime supermarket   product  \\\n",
       "9  2023-03-04 17:02:37.628753         sfw  Hot dogs   \n",
       "19 2023-03-04 17:02:47.548730         sof  Hot dogs   \n",
       "29 2023-03-19 18:44:00.032683         sfw  Hot dogs   \n",
       "39 2023-03-19 18:44:17.473486         sof  Hot dogs   \n",
       "49 2023-03-26 16:20:47.774033         sfw  Hot dogs   \n",
       "59 2023-03-26 16:21:01.878723         sof  Hot dogs   \n",
       "69 2023-03-31 17:10:35.641468         sfw  Hot dogs   \n",
       "79 2023-03-31 17:10:48.729844         sof  Hot dogs   \n",
       "\n",
       "                                         product_name  product_price  \\\n",
       "9   Maple Leaf Natural Top Dogs Original Hot Dogs ...           3.99   \n",
       "19  Maple Leaf - Natural Top Dogs Original Hot Dog...           7.49   \n",
       "29  Maple Leaf Natural Top Dogs Original Hot Dogs ...           6.79   \n",
       "39  Maple Leaf - Natural Top Dogs Original Hot Dog...           7.49   \n",
       "49  Maple Leaf Natural Top Dogs Original Hot Dogs ...           6.99   \n",
       "59  Maple Leaf - Natural Top Dogs Original Hot Dog...           7.49   \n",
       "69  Maple Leaf Natural Top Dogs Original Hot Dogs ...           6.99   \n",
       "79  Maple Leaf - Natural Top Dogs Original Hot Dog...           7.49   \n",
       "\n",
       "          date  \n",
       "9   2023-03-04  \n",
       "19  2023-03-04  \n",
       "29  2023-03-19  \n",
       "39  2023-03-19  \n",
       "49  2023-03-26  \n",
       "59  2023-03-26  \n",
       "69  2023-03-31  \n",
       "79  2023-03-31  "
      ]
     },
     "execution_count": 9,
     "metadata": {},
     "output_type": "execute_result"
    }
   ],
   "source": [
    "webscraping_results[webscraping_results['product'] == 'Hot dogs']"
   ]
  },
  {
   "cell_type": "code",
   "execution_count": 10,
   "id": "06f322c9-2051-4296-a202-5a8ad915e33c",
   "metadata": {},
   "outputs": [
    {
     "data": {
      "text/plain": [
       "Milk             10\n",
       "Tomato sauce     10\n",
       "Spaguetti        10\n",
       "Bacon            10\n",
       "Beans            10\n",
       "Strawberries     10\n",
       "Bread             8\n",
       "Sliced ham        8\n",
       "Sliced cheese     8\n",
       "Hot dogs          8\n",
       "Name: product, dtype: int64"
      ]
     },
     "execution_count": 10,
     "metadata": {},
     "output_type": "execute_result"
    }
   ],
   "source": [
    "webscraping_results['product'].value_counts()"
   ]
  },
  {
   "cell_type": "code",
   "execution_count": 11,
   "id": "147d2e4f-f255-48ba-859a-b979f3f98d69",
   "metadata": {},
   "outputs": [
    {
     "name": "stdout",
     "output_type": "stream",
     "text": [
      "<class 'pandas.core.frame.DataFrame'>\n",
      "Int64Index: 92 entries, 0 to 79\n",
      "Data columns (total 6 columns):\n",
      " #   Column         Non-Null Count  Dtype         \n",
      "---  ------         --------------  -----         \n",
      " 0   datetime       92 non-null     datetime64[ns]\n",
      " 1   supermarket    92 non-null     object        \n",
      " 2   product        92 non-null     object        \n",
      " 3   product_name   92 non-null     object        \n",
      " 4   product_price  92 non-null     float64       \n",
      " 5   date           92 non-null     object        \n",
      "dtypes: datetime64[ns](1), float64(1), object(4)\n",
      "memory usage: 5.0+ KB\n"
     ]
    }
   ],
   "source": [
    "webscraping_results.info()"
   ]
  },
  {
   "cell_type": "code",
   "execution_count": 17,
   "id": "88ebacea-d498-454a-a992-7e461896116b",
   "metadata": {},
   "outputs": [
    {
     "data": {
      "text/plain": [
       "date        supermarket\n",
       "2023-03-04  sfw            52.00\n",
       "            sof            56.60\n",
       "2023-03-19  sfw            55.10\n",
       "            sof            55.60\n",
       "2023-03-26  sfw            55.30\n",
       "            sof            55.60\n",
       "2023-03-31  sfw            52.96\n",
       "            sof            56.10\n",
       "Name: product_price, dtype: float64"
      ]
     },
     "execution_count": 17,
     "metadata": {},
     "output_type": "execute_result"
    }
   ],
   "source": [
    "# what is the average total value per supermarket per day\n",
    "webscraping_results[webscraping_results['datetime'] > '2023-02-26'].groupby(['date', 'supermarket'])['product_price'].sum()"
   ]
  },
  {
   "cell_type": "code",
   "execution_count": 18,
   "id": "7d4df5e8-e3a7-400f-b6d3-6073ea48f4a0",
   "metadata": {},
   "outputs": [
    {
     "data": {
      "text/plain": [
       "<AxesSubplot:xlabel='date'>"
      ]
     },
     "execution_count": 18,
     "metadata": {},
     "output_type": "execute_result"
    },
    {
     "data": {
      "image/png": "[encoded data removed]",
      "text/plain": [
       "<Figure size 432x288 with 1 Axes>"
      ]
     },
     "metadata": {
      "needs_background": "light"
     },
     "output_type": "display_data"
    }
   ],
   "source": [
    "webscraping_results[webscraping_results['datetime'] > '2023-02-26'].groupby(['date', 'supermarket'])['product_price'].sum().unstack().plot(legend=True)"
   ]
  }
 ],
 "metadata": {
  "kernelspec": {
   "display_name": "Python 3 (ipykernel)",
   "language": "python",
   "name": "python3"
  },
  "language_info": {
   "codemirror_mode": {
    "name": "ipython",
    "version": 3
   },
   "file_extension": ".py",
   "mimetype": "text/x-python",
   "name": "python",
   "nbconvert_exporter": "python",
   "pygments_lexer": "ipython3",
   "version": "3.8.13"
  }
 },
 "nbformat": 4,
 "nbformat_minor": 5
}
